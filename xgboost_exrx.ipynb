{
 "cells": [
  {
   "cell_type": "code",
   "execution_count": 14,
   "metadata": {
    "collapsed": false
   },
   "outputs": [],
   "source": [
    "import numpy as np\n",
    "import pandas as pd\n",
    "import xgboost as xgb\n",
    "import matplotlib.pyplot as plt\n",
    "%matplotlib inline  \n",
    "from sklearn.feature_extraction.text import TfidfVectorizer\n",
    "from sklearn.model_selection import train_test_split\n",
    "from sklearn.ensemble import RandomForestClassifier\n",
    "from sklearn import metrics\n",
    "from __future__ import division\n",
    "import json\n",
    "from ast import literal_eval"
   ]
  },
  {
   "cell_type": "code",
   "execution_count": 27,
   "metadata": {
    "collapsed": false
   },
   "outputs": [],
   "source": [
    "df = pd.read_json('fit_modified.json', orient = 'records', dtype={\"A\":[str], \"B\":[str]})"
   ]
  },
  {
   "cell_type": "code",
   "execution_count": 32,
   "metadata": {
    "collapsed": false
   },
   "outputs": [
    {
     "data": {
      "text/plain": [
       "Index([u'antagoniststabilizers', u'comments', u'execution', u'exercisename',\n",
       "       u'force', u'functional_muscle_group', u'gif', u'mechanics',\n",
       "       u'preparation', u'stabilizers', u'synergists', u'target', u'utility',\n",
       "       u'video'],\n",
       "      dtype='object')"
      ]
     },
     "execution_count": 32,
     "metadata": {},
     "output_type": "execute_result"
    }
   ],
   "source": [
    "df.columns"
   ]
  },
  {
   "cell_type": "code",
   "execution_count": 35,
   "metadata": {
    "collapsed": false
   },
   "outputs": [
    {
     "data": {
      "text/html": [
       "<div>\n",
       "<table border=\"1\" class=\"dataframe\">\n",
       "  <thead>\n",
       "    <tr style=\"text-align: right;\">\n",
       "      <th></th>\n",
       "      <th>comments</th>\n",
       "      <th>execution</th>\n",
       "      <th>exercisename</th>\n",
       "      <th>force</th>\n",
       "      <th>functional_muscle_group</th>\n",
       "      <th>mechanics</th>\n",
       "      <th>preparation</th>\n",
       "      <th>stabilizers</th>\n",
       "      <th>synergists</th>\n",
       "      <th>target</th>\n",
       "      <th>utility</th>\n",
       "    </tr>\n",
       "  </thead>\n",
       "  <tbody>\n",
       "    <tr>\n",
       "      <th>0</th>\n",
       "      <td>Position rack just below lowest range of motio...</td>\n",
       "      <td>Raise heels by extending ankles as high as pos...</td>\n",
       "      <td>Safety Barbell Standing Leg Calf Raise</td>\n",
       "      <td>[Push]</td>\n",
       "      <td>[leg]</td>\n",
       "      <td>[Isolated]</td>\n",
       "      <td>Stand facing safety barbell on rack upper ches...</td>\n",
       "      <td>[]</td>\n",
       "      <td>[Soleus]</td>\n",
       "      <td>[Gastrocnemius]</td>\n",
       "      <td>[Basic]</td>\n",
       "    </tr>\n",
       "    <tr>\n",
       "      <th>1</th>\n",
       "      <td>Let cable attachment pull arm back to maintain...</td>\n",
       "      <td>Raise ends of rope overhead by extending forea...</td>\n",
       "      <td>Cable Triceps Extension (with rope)</td>\n",
       "      <td>[Push]</td>\n",
       "      <td>[triceps]</td>\n",
       "      <td>[Isolated]</td>\n",
       "      <td>From low pulley cable, grasp ends of rope atta...</td>\n",
       "      <td>[Deltoid, Anterior, PectoralisMajor, Clavicula...</td>\n",
       "      <td>[]</td>\n",
       "      <td>[Triceps Brachii]</td>\n",
       "      <td>[Basic, Auxiliary]</td>\n",
       "    </tr>\n",
       "  </tbody>\n",
       "</table>\n",
       "</div>"
      ],
      "text/plain": [
       "                                            comments  \\\n",
       "0  Position rack just below lowest range of motio...   \n",
       "1  Let cable attachment pull arm back to maintain...   \n",
       "\n",
       "                                           execution  \\\n",
       "0  Raise heels by extending ankles as high as pos...   \n",
       "1  Raise ends of rope overhead by extending forea...   \n",
       "\n",
       "                             exercisename   force functional_muscle_group  \\\n",
       "0  Safety Barbell Standing Leg Calf Raise  [Push]                   [leg]   \n",
       "1     Cable Triceps Extension (with rope)  [Push]               [triceps]   \n",
       "\n",
       "    mechanics                                        preparation  \\\n",
       "0  [Isolated]  Stand facing safety barbell on rack upper ches...   \n",
       "1  [Isolated]  From low pulley cable, grasp ends of rope atta...   \n",
       "\n",
       "                                         stabilizers synergists  \\\n",
       "0                                                 []   [Soleus]   \n",
       "1  [Deltoid, Anterior, PectoralisMajor, Clavicula...         []   \n",
       "\n",
       "              target             utility  \n",
       "0    [Gastrocnemius]             [Basic]  \n",
       "1  [Triceps Brachii]  [Basic, Auxiliary]  "
      ]
     },
     "execution_count": 35,
     "metadata": {},
     "output_type": "execute_result"
    }
   ],
   "source": [
    "data = df.drop(['antagoniststabilizers','gif','video'],1)\n",
    "data.head(2)"
   ]
  },
  {
   "cell_type": "code",
   "execution_count": 22,
   "metadata": {
    "collapsed": false
   },
   "outputs": [
    {
     "data": {
      "text/plain": [
       "Back         16995\n",
       "Leg          10390\n",
       "Shoulders     8809\n",
       "Chest         8685\n",
       "Triceps       6864\n",
       "Biceps        6798\n",
       "Abs           6046\n",
       "Glutes        2625\n",
       "Name: group, dtype: int64"
      ]
     },
     "execution_count": 22,
     "metadata": {},
     "output_type": "execute_result"
    }
   ],
   "source": [
    "label['group'].value_counts()"
   ]
  },
  {
   "cell_type": "code",
   "execution_count": 7,
   "metadata": {
    "collapsed": false
   },
   "outputs": [],
   "source": [
    "#initialize TFIDF vectorizer\n",
    "vectorizer = TfidfVectorizer(ngram_range=(1,3),stop_words=\"english\")\n",
    "data = vectorizer.fit_transform(train_data['question'])"
   ]
  },
  {
   "cell_type": "code",
   "execution_count": 52,
   "metadata": {
    "collapsed": false
   },
   "outputs": [
    {
     "name": "stdout",
     "output_type": "stream",
     "text": [
      "frozenset(['all', 'six', 'less', 'being', 'indeed', 'over', 'move', 'anyway', 'fifty', 'four', 'not', 'own', 'through', 'yourselves', 'go', 'where', 'mill', 'only', 'find', 'before', 'one', 'whose', 'system', 'how', 'somewhere', 'with', 'thick', 'show', 'had', 'enough', 'should', 'to', 'must', 'whom', 'seeming', 'under', 'ours', 'has', 'might', 'thereafter', 'latterly', 'do', 'them', 'his', 'around', 'than', 'get', 'very', 'de', 'none', 'cannot', 'every', 'whether', 'they', 'front', 'during', 'thus', 'now', 'him', 'nor', 'name', 'several', 'hereafter', 'always', 'who', 'cry', 'whither', 'this', 'someone', 'either', 'each', 'become', 'thereupon', 'sometime', 'side', 'two', 'therein', 'twelve', 'because', 'often', 'ten', 'our', 'eg', 'some', 'back', 'up', 'namely', 'towards', 'are', 'further', 'beyond', 'ourselves', 'yet', 'out', 'even', 'will', 'what', 'still', 'for', 'bottom', 'mine', 'since', 'please', 'forty', 'per', 'its', 'everything', 'behind', 'un', 'above', 'between', 'it', 'neither', 'seemed', 'ever', 'across', 'she', 'somehow', 'be', 'we', 'full', 'never', 'sixty', 'however', 'here', 'otherwise', 'were', 'whereupon', 'nowhere', 'although', 'found', 'alone', 're', 'along', 'fifteen', 'by', 'both', 'about', 'last', 'would', 'anything', 'via', 'many', 'could', 'thence', 'put', 'against', 'keep', 'etc', 'amount', 'became', 'ltd', 'hence', 'onto', 'or', 'con', 'among', 'already', 'co', 'afterwards', 'formerly', 'within', 'seems', 'into', 'others', 'while', 'whatever', 'except', 'down', 'hers', 'everyone', 'done', 'least', 'another', 'whoever', 'moreover', 'couldnt', 'throughout', 'anyhow', 'yourself', 'three', 'from', 'her', 'few', 'together', 'top', 'there', 'due', 'been', 'next', 'anyone', 'eleven', 'much', 'call', 'therefore', 'interest', 'then', 'thru', 'themselves', 'hundred', 'was', 'sincere', 'empty', 'more', 'himself', 'elsewhere', 'mostly', 'on', 'fire', 'am', 'becoming', 'hereby', 'amongst', 'else', 'part', 'everywhere', 'too', 'herself', 'former', 'those', 'he', 'me', 'myself', 'made', 'twenty', 'these', 'bill', 'cant', 'us', 'until', 'besides', 'nevertheless', 'below', 'anywhere', 'nine', 'can', 'of', 'your', 'toward', 'my', 'something', 'and', 'whereafter', 'whenever', 'give', 'almost', 'wherever', 'is', 'describe', 'beforehand', 'herein', 'an', 'as', 'itself', 'at', 'have', 'in', 'seem', 'whence', 'ie', 'any', 'fill', 'again', 'hasnt', 'inc', 'thereby', 'thin', 'no', 'perhaps', 'latter', 'meanwhile', 'when', 'detail', 'same', 'wherein', 'beside', 'also', 'that', 'other', 'take', 'which', 'becomes', 'you', 'if', 'nobody', 'see', 'though', 'may', 'after', 'upon', 'most', 'hereupon', 'eight', 'but', 'serious', 'nothing', 'such', 'why', 'a', 'off', 'whereby', 'third', 'i', 'whole', 'noone', 'sometimes', 'well', 'amoungst', 'yours', 'their', 'rather', 'without', 'so', 'five', 'the', 'first', 'whereas', 'once'])\n"
     ]
    }
   ],
   "source": [
    "print vectorizer.get_stop_words()"
   ]
  },
  {
   "cell_type": "code",
   "execution_count": 51,
   "metadata": {
    "collapsed": false
   },
   "outputs": [
    {
     "name": "stdout",
     "output_type": "stream",
     "text": [
      "[u'zzzzzzzzzzzzzzzzzz important points', u'energy increases neat', u'energy incredible', u'pro bodybuilding title', u'energy incredible love', u'pro bodybuilding threads', u'pro bodybuilding successful', u'pro bodybuilding status', u'energy inefficient', u'energy inefficient energy', u'pro bodybuilding smaller', u'pro bodybuilding skip', u'energy infectious love', u'energy information', u'energy information helpful']\n"
     ]
    }
   ],
   "source": [
    "# show top important words\n",
    "indices = np.argsort(vectorizer.idf_)[::-1]\n",
    "features = vectorizer.get_feature_names()\n",
    "top_n = 15\n",
    "top_features = [features[i] for i in indices[:top_n]]\n",
    "print top_features"
   ]
  },
  {
   "cell_type": "code",
   "execution_count": 9,
   "metadata": {
    "collapsed": false
   },
   "outputs": [],
   "source": [
    "from sklearn.decomposition import TruncatedSVD\n",
    "from sklearn.utils import shuffle\n",
    "# reduce features using SVD\n",
    "SVD = TruncatedSVD(n_components=100, n_iter=5, random_state=0)\n",
    "train = SVD.fit_transform(data)\n",
    "# shuffle data\n",
    "train, train_label = shuffle(train, train_label, random_state=0)"
   ]
  },
  {
   "cell_type": "code",
   "execution_count": 10,
   "metadata": {
    "collapsed": false
   },
   "outputs": [
    {
     "name": "stdout",
     "output_type": "stream",
     "text": [
      "(21506, 100)\n",
      "(5377, 100)\n"
     ]
    }
   ],
   "source": [
    "# separate data into training and test\n",
    "X_train, X_test, y_train, y_test = train_test_split(train, train_label, test_size=0.2, random_state=0)\n",
    "print X_train.shape\n",
    "print X_test.shape"
   ]
  },
  {
   "cell_type": "code",
   "execution_count": 70,
   "metadata": {
    "collapsed": false
   },
   "outputs": [
    {
     "data": {
      "text/plain": [
       "(89989,)"
      ]
     },
     "execution_count": 70,
     "metadata": {},
     "output_type": "execute_result"
    }
   ],
   "source": [
    "feature_names = vectorizer.get_feature_names()\n",
    "feature_names = np.asarray(feature_names)\n",
    "feature_names.shape"
   ]
  },
  {
   "cell_type": "code",
   "execution_count": 11,
   "metadata": {
    "collapsed": false
   },
   "outputs": [
    {
     "name": "stderr",
     "output_type": "stream",
     "text": [
      "/anaconda/lib/python2.7/site-packages/ipykernel/__main__.py:3: DataConversionWarning: A column-vector y was passed when a 1d array was expected. Please change the shape of y to (n_samples,), for example using ravel().\n",
      "  app.launch_new_instance()\n"
     ]
    }
   ],
   "source": [
    "#benchmark model\n",
    "clf = RandomForestClassifier(max_depth=4)\n",
    "clf.fit(X_train, y_train)\n",
    "pred = clf.predict(X_test)"
   ]
  },
  {
   "cell_type": "code",
   "execution_count": 12,
   "metadata": {
    "collapsed": false
   },
   "outputs": [
    {
     "name": "stdout",
     "output_type": "stream",
     "text": [
      "0.251441324158\n"
     ]
    }
   ],
   "source": [
    "score = metrics.accuracy_score(y_test, pred)\n",
    "print score"
   ]
  },
  {
   "cell_type": "code",
   "execution_count": 13,
   "metadata": {
    "collapsed": false
   },
   "outputs": [],
   "source": [
    "y_label = pd.Series(y_train['group'],dtype='category')\n",
    "y_label.cat.categories \n",
    "y_label.cat.categories = [0,1,2,3,4,5,6,7]"
   ]
  },
  {
   "cell_type": "code",
   "execution_count": 14,
   "metadata": {
    "collapsed": false
   },
   "outputs": [
    {
     "name": "stdout",
     "output_type": "stream",
     "text": [
      "(17204, 100)\n",
      "(17204,)\n",
      "(4302, 100)\n",
      "(4302,)\n"
     ]
    }
   ],
   "source": [
    "X_train, X_valid, y_train, y_valid = train_test_split(X_train, y_label, test_size=0.2, random_state=0)\n",
    "print X_train.shape\n",
    "print y_train.shape\n",
    "print X_valid.shape\n",
    "print y_valid.shape"
   ]
  },
  {
   "cell_type": "code",
   "execution_count": 15,
   "metadata": {
    "collapsed": false
   },
   "outputs": [
    {
     "data": {
      "text/plain": [
       "[4, 0, 5, 2, 6, ..., 3, 5, 5, 1, 5]\n",
       "Length: 4302\n",
       "Categories (8, int64): [0, 1, 2, 3, 4, 5, 6, 7]"
      ]
     },
     "execution_count": 15,
     "metadata": {},
     "output_type": "execute_result"
    }
   ],
   "source": [
    "y_valid"
   ]
  },
  {
   "cell_type": "code",
   "execution_count": 18,
   "metadata": {
    "collapsed": false
   },
   "outputs": [
    {
     "name": "stdout",
     "output_type": "stream",
     "text": [
      "[0]\ttrain-merror:0.726808\tvalid-merror:0.784054\n",
      "Multiple eval metrics have been passed: 'valid-merror' will be used for early stopping.\n",
      "\n",
      "Will train until valid-merror hasn't improved in 10 rounds.\n",
      "[10]\ttrain-merror:0.723553\tvalid-merror:0.7808\n",
      "Stopping. Best iteration:\n",
      "[8]\ttrain-merror:0.72396\tvalid-merror:0.777778\n",
      "\n"
     ]
    }
   ],
   "source": [
    "#xgboost\n",
    "\n",
    "params = {}\n",
    "params['objective'] = 'multi:softmax'\n",
    "params['eta'] = 0.01\n",
    "params['max_depth'] = 5\n",
    "params['num_class'] = 8\n",
    "\n",
    "d_train = xgb.DMatrix(X_train, label=y_train)\n",
    "d_valid = xgb.DMatrix(X_valid, label=y_valid)\n",
    "\n",
    "watchlist = [(d_train, 'train'), (d_valid, 'valid')]\n",
    "bst = xgb.train(params, d_train, 200, watchlist, early_stopping_rounds=10, verbose_eval=10)\n",
    "d_test = xgb.DMatrix(X_test)\n",
    "p_test = bst.predict(d_test)"
   ]
  },
  {
   "cell_type": "code",
   "execution_count": 22,
   "metadata": {
    "collapsed": false
   },
   "outputs": [
    {
     "name": "stdout",
     "output_type": "stream",
     "text": [
      "0.221312999814\n"
     ]
    }
   ],
   "source": [
    "y_test = pd.Series(y_test['group'],dtype='category')\n",
    "y_test.cat.categories = [0,1,2,3,4,5,6,7]\n",
    "\n",
    "accuracy = float(np.sum(p_test == y_test) / y_test.shape[0])\n",
    "print accuracy"
   ]
  },
  {
   "cell_type": "code",
   "execution_count": null,
   "metadata": {
    "collapsed": true
   },
   "outputs": [],
   "source": []
  }
 ],
 "metadata": {
  "kernelspec": {
   "display_name": "Python 2",
   "language": "python",
   "name": "python2"
  },
  "language_info": {
   "codemirror_mode": {
    "name": "ipython",
    "version": 2
   },
   "file_extension": ".py",
   "mimetype": "text/x-python",
   "name": "python",
   "nbconvert_exporter": "python",
   "pygments_lexer": "ipython2",
   "version": "2.7.13"
  }
 },
 "nbformat": 4,
 "nbformat_minor": 2
}
