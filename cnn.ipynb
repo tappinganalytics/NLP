{
 "cells": [
  {
   "cell_type": "code",
   "execution_count": 13,
   "metadata": {
    "collapsed": false
   },
   "outputs": [],
   "source": [
    "import numpy as np\n",
    "import pandas as pd\n",
    "import tensorflow as tf\n",
    "import matplotlib.pyplot as plt\n",
    "%matplotlib inline  \n",
    "from sklearn import preprocessing \n",
    "from sklearn.feature_extraction.text import TfidfVectorizer\n",
    "from sklearn.model_selection import train_test_split\n",
    "from sklearn import metrics\n",
    "from __future__ import division\n",
    "from sklearn.decomposition import TruncatedSVD"
   ]
  },
  {
   "cell_type": "code",
   "execution_count": 2,
   "metadata": {
    "collapsed": false
   },
   "outputs": [],
   "source": [
    "train = pd.read_table(\"data_content\", header=None, skip_blank_lines=False)\n",
    "label = pd.read_table(\"label\", header=None, dtype='category', skip_blank_lines=False)"
   ]
  },
  {
   "cell_type": "code",
   "execution_count": 3,
   "metadata": {
    "collapsed": false
   },
   "outputs": [],
   "source": [
    "train.columns = ['question']\n",
    "label.columns = ['group']"
   ]
  },
  {
   "cell_type": "code",
   "execution_count": 4,
   "metadata": {
    "collapsed": false
   },
   "outputs": [
    {
     "name": "stdout",
     "output_type": "stream",
     "text": [
      "(67213, 1)\n",
      "(67213, 1)\n"
     ]
    }
   ],
   "source": [
    "print train.shape\n",
    "print label.shape"
   ]
  },
  {
   "cell_type": "code",
   "execution_count": 5,
   "metadata": {
    "collapsed": false
   },
   "outputs": [],
   "source": [
    "ratio = 0.2\n",
    "# Separate each muscle group data\n",
    "chest = train[label['group']=='Chest']\n",
    "chest_label = label[label['group']=='Chest']\n",
    "chest_len = int(chest.shape[0]*ratio)\n",
    "\n",
    "shoulder = train[label['group']=='Shoulders']\n",
    "shoulder_len = int(shoulder.shape[0]*ratio)\n",
    "shoulder_label = label[label['group']=='Shoulders']\n",
    "\n",
    "back = train[label['group']=='Back']\n",
    "back_label = label[label['group']=='Back']\n",
    "back_len = int(back.shape[0]*ratio)\n",
    "\n",
    "leg = train[label['group']=='Leg']\n",
    "leg_label = label[label['group']=='Leg']\n",
    "leg_len = int(leg.shape[0]*ratio)\n",
    "\n",
    "tricep = train[label['group']=='Triceps']\n",
    "tricep_label = label[label['group']=='Triceps']\n",
    "tricep_len = int(tricep.shape[0]*ratio)\n",
    "\n",
    "bicep = train[label['group']=='Biceps']\n",
    "bicep_label = label[label['group']=='Biceps']\n",
    "bicep_len = int(bicep.shape[0]*ratio)\n",
    "\n",
    "ab = train[label['group']=='Abs']\n",
    "ab_label = label[label['group']=='Abs']\n",
    "ab_len = int(ab.shape[0]*ratio)\n",
    "\n",
    "glute = train[label['group']=='Glutes']\n",
    "glute_label = label[label['group']=='Glutes']\n",
    "glute_len = int(glute.shape[0]*ratio)"
   ]
  },
  {
   "cell_type": "code",
   "execution_count": 6,
   "metadata": {
    "collapsed": false
   },
   "outputs": [
    {
     "name": "stdout",
     "output_type": "stream",
     "text": [
      "(13440, 1)\n",
      "(13440, 1)\n"
     ]
    }
   ],
   "source": [
    "# Take only the top ratio% of each group of data\n",
    "train_data = pd.concat([chest[0:chest_len], shoulder[0:shoulder_len], back[0:back_len], \n",
    "                        leg[0:leg_len], tricep[0:tricep_len], bicep[0:bicep_len], ab[0:ab_len], glute[0: glute_len]])\n",
    "print train_data.shape\n",
    "train_label = pd.concat([chest_label[0:chest_len], shoulder_label[0:shoulder_len], back_label[0:back_len], \n",
    "                   leg_label[0:leg_len], tricep_label[0:tricep_len], bicep_label[0:bicep_len], ab_label[0:ab_len],\n",
    "                         glute_label[0: glute_len]])\n",
    "print train_label.shape"
   ]
  },
  {
   "cell_type": "code",
   "execution_count": 7,
   "metadata": {
    "collapsed": false
   },
   "outputs": [],
   "source": [
    "y_label = pd.Series(train_label['group'],dtype='category')\n",
    "y_label.cat.categories \n",
    "y_label.cat.categories = [0,1,2,3,4,5,6,7]"
   ]
  },
  {
   "cell_type": "code",
   "execution_count": 8,
   "metadata": {
    "collapsed": false
   },
   "outputs": [],
   "source": [
    "#label binizer\n",
    "lb = preprocessing.LabelBinarizer()\n",
    "lb.fit([0,1,2,3,4,5,6,7])\n",
    "label = lb.transform(y_label)"
   ]
  },
  {
   "cell_type": "code",
   "execution_count": 9,
   "metadata": {
    "collapsed": false
   },
   "outputs": [],
   "source": [
    "#initialize TFIDF vectorizer\n",
    "vectorizer = TfidfVectorizer(ngram_range=(1,2),stop_words=\"english\")\n",
    "data = vectorizer.fit_transform(train_data['question'])"
   ]
  },
  {
   "cell_type": "code",
   "execution_count": 15,
   "metadata": {
    "collapsed": false
   },
   "outputs": [],
   "source": [
    "# reduce features using SVD\n",
    "SVD = TruncatedSVD(n_components=200, n_iter=5, random_state=0)\n",
    "train = SVD.fit_transform(data)"
   ]
  },
  {
   "cell_type": "code",
   "execution_count": 24,
   "metadata": {
    "collapsed": false
   },
   "outputs": [
    {
     "name": "stdout",
     "output_type": "stream",
     "text": [
      "(10752, 200)\n",
      "(10752, 8)\n"
     ]
    }
   ],
   "source": [
    "# train test split\n",
    "train_data, testX, train_label, testY = train_test_split(train, label, test_size=0.2, random_state=0)\n",
    "print train_data.shape\n",
    "print train_label.shape"
   ]
  },
  {
   "cell_type": "code",
   "execution_count": 34,
   "metadata": {
    "collapsed": false
   },
   "outputs": [],
   "source": [
    "# tensorflow setup\n",
    "numFeatures = train_data.shape[1]\n",
    "numLabels = 8\n",
    "numEpochs = 1000\n",
    "learningRate = tf.train.exponential_decay(learning_rate=0.08,\n",
    "                                          global_step= 1,\n",
    "                                          decay_steps=train_data.shape[0],\n",
    "                                          decay_rate= 0.9,\n",
    "                                          staircase=True)\n",
    "\n",
    "\n",
    "X = tf.placeholder(tf.float32, [None, numFeatures])\n",
    "Y = tf.placeholder(tf.float32, [None, numLabels])\n",
    "\n",
    "weights = tf.Variable(tf.random_normal([numFeatures,numLabels],\n",
    "                                       mean=0,\n",
    "                                       stddev=(np.sqrt(6/numFeatures+\n",
    "                                                         numLabels+1)),\n",
    "                                       name=\"weights\"))\n",
    "\n",
    "bias = tf.Variable(tf.random_normal([1,numLabels],\n",
    "                                    mean=0,\n",
    "                                    stddev=(np.sqrt(6/numFeatures+numLabels+1)),\n",
    "                                    name=\"bias\"))"
   ]
  },
  {
   "cell_type": "code",
   "execution_count": 36,
   "metadata": {
    "collapsed": false
   },
   "outputs": [],
   "source": [
    "# tensorflow operation\n",
    "init = tf.global_variables_initializer()\n",
    "\n",
    "apply_weights_OP = tf.matmul(X, weights, name=\"apply_weights\")\n",
    "add_bias_OP = tf.add(apply_weights_OP, bias, name=\"add_bias\") \n",
    "activation_OP = tf.nn.sigmoid(add_bias_OP, name=\"activation\")\n",
    "\n",
    "cost_OP = tf.nn.l2_loss(activation_OP-Y, name=\"squared_error_cost\")\n",
    "training_OP = tf.train.GradientDescentOptimizer(learningRate).minimize(cost_OP)"
   ]
  },
  {
   "cell_type": "code",
   "execution_count": 37,
   "metadata": {
    "collapsed": false
   },
   "outputs": [
    {
     "name": "stdout",
     "output_type": "stream",
     "text": [
      "step 0, training accuracy 0.143136\n",
      "step 0, cost 6756.2\n",
      "step 0, change in cost 6756.2\n",
      "step 10, training accuracy 0.132626\n",
      "step 10, cost 5353.97\n",
      "step 10, change in cost 1402.23\n",
      "step 20, training accuracy 0.132626\n",
      "step 20, cost 5343.83\n",
      "step 20, change in cost 10.1362\n",
      "step 30, training accuracy 0.132626\n",
      "step 30, cost 5340.03\n",
      "step 30, change in cost 3.79883\n",
      "step 40, training accuracy 0.132626\n",
      "step 40, cost 5339.43\n",
      "step 40, change in cost 0.601074\n",
      "step 50, training accuracy 0.132719\n",
      "step 50, cost 5372.88\n",
      "step 50, change in cost 33.4438\n",
      "step 60, training accuracy 0.132626\n",
      "step 60, cost 5367.19\n",
      "step 60, change in cost 5.68311\n",
      "step 70, training accuracy 0.133092\n",
      "step 70, cost 5375.58\n",
      "step 70, change in cost 8.38574\n",
      "step 80, training accuracy 0.132999\n",
      "step 80, cost 5375.38\n",
      "step 80, change in cost 0.19873\n",
      "step 90, training accuracy 0.132906\n",
      "step 90, cost 5374.85\n",
      "step 90, change in cost 0.532715\n",
      "step 100, training accuracy 0.132719\n",
      "step 100, cost 5370.44\n",
      "step 100, change in cost 4.40674\n",
      "step 110, training accuracy 0.133464\n",
      "step 110, cost 5375.92\n",
      "step 110, change in cost 5.47559\n",
      "step 120, training accuracy 0.133464\n",
      "step 120, cost 5375.91\n",
      "step 120, change in cost 0.00488281\n",
      "step 130, training accuracy 0.133464\n",
      "step 130, cost 5375.91\n",
      "step 130, change in cost 0.00537109\n",
      "step 140, training accuracy 0.133371\n",
      "step 140, cost 5375.9\n",
      "step 140, change in cost 0.00732422\n",
      "step 150, training accuracy 0.133278\n",
      "step 150, cost 5375.89\n",
      "step 150, change in cost 0.00830078\n",
      "step 160, training accuracy 0.133185\n",
      "step 160, cost 5375.88\n",
      "step 160, change in cost 0.00927734\n",
      "step 170, training accuracy 0.133278\n",
      "step 170, cost 5375.87\n",
      "step 170, change in cost 0.0107422\n",
      "step 180, training accuracy 0.133185\n",
      "step 180, cost 5375.86\n",
      "step 180, change in cost 0.0136719\n",
      "step 190, training accuracy 0.133092\n",
      "step 190, cost 5375.84\n",
      "step 190, change in cost 0.0175781\n",
      "step 200, training accuracy 0.133278\n",
      "step 200, cost 5375.82\n",
      "step 200, change in cost 0.0209961\n",
      "step 210, training accuracy 0.133185\n",
      "step 210, cost 5375.79\n",
      "step 210, change in cost 0.0288086\n",
      "step 220, training accuracy 0.133185\n",
      "step 220, cost 5375.75\n",
      "step 220, change in cost 0.0400391\n",
      "step 230, training accuracy 0.133464\n",
      "step 230, cost 5375.69\n",
      "step 230, change in cost 0.0585938\n",
      "step 240, training accuracy 0.133371\n",
      "step 240, cost 5375.59\n",
      "step 240, change in cost 0.0957031\n",
      "step 250, training accuracy 0.133092\n",
      "step 250, cost 5375.42\n",
      "step 250, change in cost 0.179688\n",
      "step 260, training accuracy 0.132906\n",
      "step 260, cost 5374.95\n",
      "step 260, change in cost 0.460938\n",
      "step 270, training accuracy 0.132812\n",
      "step 270, cost 5371.95\n",
      "step 270, change in cost 3.00488\n",
      "step 280, training accuracy 0.172526\n",
      "step 280, cost 5375.99\n",
      "step 280, change in cost 4.0376\n",
      "step 290, training accuracy 0.172898\n",
      "step 290, cost 5375.99\n",
      "step 290, change in cost 0.000488281\n",
      "step 300, training accuracy 0.173084\n",
      "step 300, cost 5375.99\n",
      "step 300, change in cost 0\n",
      "change in cost 0; convergence.\n",
      "final accuracy on test set: 0.169643\n"
     ]
    }
   ],
   "source": [
    "# tensorflow session\n",
    "sess = tf.Session()\n",
    "sess.run(init)\n",
    "\n",
    "correct_predictions_OP = tf.equal(tf.argmax(activation_OP,1),tf.argmax(Y,1))\n",
    "accuracy_OP = tf.reduce_mean(tf.cast(correct_predictions_OP, \"float\"))\n",
    "\n",
    "\n",
    "cost = 0\n",
    "diff = 1\n",
    "epoch_values=[]\n",
    "accuracy_values=[]\n",
    "cost_values=[]\n",
    "\n",
    "# Training epochs\n",
    "for i in range(numEpochs):\n",
    "    if i > 1 and diff < .0001:\n",
    "        print(\"change in cost %g; convergence.\"%diff)\n",
    "        break\n",
    "    else:\n",
    "        # Run training step\n",
    "        step = sess.run(training_OP, feed_dict={X: train_data, Y: train_label})\n",
    "        # Report occasional stats\n",
    "        if i % 10 == 0:\n",
    "            # Add epoch to epoch_values\n",
    "            epoch_values.append(i)\n",
    "            # Generate accuracy stats on test data\n",
    "            train_accuracy, newCost = sess.run(\n",
    "                [accuracy_OP, cost_OP], \n",
    "                feed_dict={X: train_data, Y: train_label}\n",
    "            )\n",
    "            # Add accuracy to live graphing variable\n",
    "            accuracy_values.append(train_accuracy)\n",
    "            # Add cost to live graphing variable\n",
    "            cost_values.append(newCost)\n",
    "            \n",
    "            # Re-assign values for variables\n",
    "            diff = abs(newCost - cost)\n",
    "            cost = newCost\n",
    "\n",
    "            #generate print statements\n",
    "            print(\"step %d, training accuracy %g\"%(i, train_accuracy))\n",
    "            print(\"step %d, cost %g\"%(i, newCost))\n",
    "            print(\"step %d, change in cost %g\"%(i, diff))\n",
    "\n",
    "            \n",
    "\n",
    "# How well do we perform on held-out test data?\n",
    "print(\"final accuracy on test set: %s\" %str(sess.run(accuracy_OP, \n",
    "                                                     feed_dict={X: testX, \n",
    "                                                                Y: testY})))"
   ]
  },
  {
   "cell_type": "code",
   "execution_count": null,
   "metadata": {
    "collapsed": true
   },
   "outputs": [],
   "source": []
  }
 ],
 "metadata": {
  "kernelspec": {
   "display_name": "Python 2",
   "language": "python",
   "name": "python2"
  },
  "language_info": {
   "codemirror_mode": {
    "name": "ipython",
    "version": 2
   },
   "file_extension": ".py",
   "mimetype": "text/x-python",
   "name": "python",
   "nbconvert_exporter": "python",
   "pygments_lexer": "ipython2",
   "version": "2.7.13"
  }
 },
 "nbformat": 4,
 "nbformat_minor": 2
}
