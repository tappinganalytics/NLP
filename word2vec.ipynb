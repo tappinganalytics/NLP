{
 "cells": [
  {
   "cell_type": "code",
   "execution_count": 52,
   "metadata": {
    "collapsed": false
   },
   "outputs": [],
   "source": [
    "import numpy as np\n",
    "import pandas as pd\n",
    "import matplotlib.pyplot as plt\n",
    "%matplotlib inline  \n",
    "from gensim.models import Word2Vec\n",
    "from sklearn.model_selection import train_test_split\n",
    "from __future__ import division\n",
    "from nltk import sent_tokenize, word_tokenize\n",
    "from wikipedia import page"
   ]
  },
  {
   "cell_type": "code",
   "execution_count": 30,
   "metadata": {
    "collapsed": false
   },
   "outputs": [],
   "source": [
    "data = pd.read_csv(\"user_question.csv\", header=None)\n",
    "data.columns = ['question','group']"
   ]
  },
  {
   "cell_type": "code",
   "execution_count": 31,
   "metadata": {
    "collapsed": false
   },
   "outputs": [],
   "source": [
    "train = data['question'].values.tolist()\n",
    "label = data['group'].values.tolist()"
   ]
  },
  {
   "cell_type": "code",
   "execution_count": 32,
   "metadata": {
    "collapsed": false
   },
   "outputs": [],
   "source": [
    "corpus = train + label"
   ]
  },
  {
   "cell_type": "code",
   "execution_count": 35,
   "metadata": {
    "collapsed": false
   },
   "outputs": [
    {
     "name": "stdout",
     "output_type": "stream",
     "text": [
      "showing info https://raw.githubusercontent.com/nltk/nltk_data/gh-pages/index.xml\n"
     ]
    },
    {
     "data": {
      "text/plain": [
       "True"
      ]
     },
     "execution_count": 35,
     "metadata": {},
     "output_type": "execute_result"
    }
   ],
   "source": [
    "nltk.download()"
   ]
  },
  {
   "cell_type": "code",
   "execution_count": 36,
   "metadata": {
    "collapsed": false
   },
   "outputs": [],
   "source": [
    "tok_corp = [nltk.word_tokenize(sent.decode('utf-8')) for sent in corpus]"
   ]
  },
  {
   "cell_type": "code",
   "execution_count": 37,
   "metadata": {
    "collapsed": false
   },
   "outputs": [],
   "source": [
    "model = Word2Vec(tok_corp, size=50, window=5, min_count=3, workers=2)"
   ]
  },
  {
   "cell_type": "code",
   "execution_count": 45,
   "metadata": {
    "collapsed": false
   },
   "outputs": [
    {
     "data": {
      "text/plain": [
       "[(u'curl', 0.2829551100730896),\n",
       " (u'want', 0.14266327023506165),\n",
       " (u'What', 0.13052792847156525),\n",
       " (u'to', 0.11642688512802124),\n",
       " (u'Shoulders', 0.08410151302814484),\n",
       " (u'abs', 0.05228054150938988),\n",
       " (u'Triceps', 0.01863226667046547),\n",
       " (u'I', 0.006797999143600464),\n",
       " (u'do', -0.019749730825424194),\n",
       " (u'Leg', -0.023615125566720963)]"
      ]
     },
     "execution_count": 45,
     "metadata": {},
     "output_type": "execute_result"
    }
   ],
   "source": [
    "model.most_similar('How')"
   ]
  },
  {
   "cell_type": "code",
   "execution_count": 51,
   "metadata": {
    "collapsed": false
   },
   "outputs": [],
   "source": [
    "wikipage = page(\"Physical fitness\")"
   ]
  },
  {
   "cell_type": "code",
   "execution_count": 53,
   "metadata": {
    "collapsed": true
   },
   "outputs": [],
   "source": [
    "sentences = [word_tokenize(sent) for sent in sent_tokenize(wikipage.content)]"
   ]
  },
  {
   "cell_type": "code",
   "execution_count": 56,
   "metadata": {
    "collapsed": false
   },
   "outputs": [
    {
     "data": {
      "text/plain": [
       "137"
      ]
     },
     "execution_count": 56,
     "metadata": {},
     "output_type": "execute_result"
    }
   ],
   "source": [
    "len(sentences)"
   ]
  },
  {
   "cell_type": "code",
   "execution_count": 57,
   "metadata": {
    "collapsed": true
   },
   "outputs": [],
   "source": [
    "wiki_model = Word2Vec(sentences, min_count=2, size=50, window=5)  "
   ]
  },
  {
   "cell_type": "code",
   "execution_count": 58,
   "metadata": {
    "collapsed": false
   },
   "outputs": [
    {
     "data": {
      "text/plain": [
       "[u'all',\n",
       " u'resistance',\n",
       " u'consists',\n",
       " u'to',\n",
       " u'must',\n",
       " u'program',\n",
       " u'helps',\n",
       " u'include',\n",
       " u'activities',\n",
       " u'Training']"
      ]
     },
     "execution_count": 58,
     "metadata": {},
     "output_type": "execute_result"
    }
   ],
   "source": [
    "list(wiki_model.wv.vocab.keys())[:10]"
   ]
  },
  {
   "cell_type": "code",
   "execution_count": 62,
   "metadata": {
    "collapsed": false
   },
   "outputs": [
    {
     "data": {
      "text/plain": [
       "[(u'in', 0.6016296148300171),\n",
       " (u'.', 0.5888518691062927),\n",
       " (u'such', 0.5855332016944885),\n",
       " (u'Cancer', 0.5716492533683777),\n",
       " (u'physical', 0.5606939792633057),\n",
       " (u'body', 0.5583063364028931),\n",
       " (u'work', 0.5521804094314575),\n",
       " (u'have', 0.5517875552177429),\n",
       " (u'risk', 0.5498833656311035),\n",
       " (u'recommendations', 0.534516453742981)]"
      ]
     },
     "execution_count": 62,
     "metadata": {},
     "output_type": "execute_result"
    }
   ],
   "source": [
    "wiki_model.most_similar('resistance')"
   ]
  },
  {
   "cell_type": "code",
   "execution_count": 64,
   "metadata": {
    "collapsed": false
   },
   "outputs": [],
   "source": [
    "exrx_data = pd.read_json('fit_modified_all.json', orient = 'records', dtype={\"A\":str, \"B\":list})\n",
    "exrx_train = exrx_data[['exercisename','preparation','comments','execution']]"
   ]
  },
  {
   "cell_type": "code",
   "execution_count": 65,
   "metadata": {
    "collapsed": false
   },
   "outputs": [
    {
     "data": {
      "text/html": [
       "<div>\n",
       "<table border=\"1\" class=\"dataframe\">\n",
       "  <thead>\n",
       "    <tr style=\"text-align: right;\">\n",
       "      <th></th>\n",
       "      <th>exercisename</th>\n",
       "      <th>preparation</th>\n",
       "      <th>comments</th>\n",
       "      <th>execution</th>\n",
       "    </tr>\n",
       "  </thead>\n",
       "  <tbody>\n",
       "    <tr>\n",
       "      <th>0</th>\n",
       "      <td>Safety Barbell Standing Leg Calf Raise</td>\n",
       "      <td>Stand facing safety barbell on rack upper ches...</td>\n",
       "      <td>Position rack just below lowest range of motio...</td>\n",
       "      <td>Raise heels by extending ankles as high as pos...</td>\n",
       "    </tr>\n",
       "    <tr>\n",
       "      <th>1</th>\n",
       "      <td>Cable Triceps Extension (with rope)</td>\n",
       "      <td>From low pulley cable, grasp ends of rope atta...</td>\n",
       "      <td>Let cable attachment pull arm back to maintain...</td>\n",
       "      <td>Raise ends of rope overhead by extending forea...</td>\n",
       "    </tr>\n",
       "    <tr>\n",
       "      <th>2</th>\n",
       "      <td>Safety Bar Seated Calf Raise</td>\n",
       "      <td>Place safety bar on rack approximately lower l...</td>\n",
       "      <td>Slide forward to edge of bench and rack safety...</td>\n",
       "      <td>Lower heels by bending ankles until calves are...</td>\n",
       "    </tr>\n",
       "    <tr>\n",
       "      <th>3</th>\n",
       "      <td>Sled 45° Reverse Calf Raise (plate loaded)</td>\n",
       "      <td>Sit on machine with lower back against padding...</td>\n",
       "      <td>Keep knees straight throughout exercise. Also ...</td>\n",
       "      <td>Pull forefoot of both feet up and back toward ...</td>\n",
       "    </tr>\n",
       "    <tr>\n",
       "      <th>4</th>\n",
       "      <td>Sled 45° Reverse Calf Raise</td>\n",
       "      <td>Sit on machine with lower back against padding...</td>\n",
       "      <td>Keep knees straight throughout exercise. Also ...</td>\n",
       "      <td>Pull forefoot of both feet up and back toward ...</td>\n",
       "    </tr>\n",
       "  </tbody>\n",
       "</table>\n",
       "</div>"
      ],
      "text/plain": [
       "                                 exercisename  \\\n",
       "0      Safety Barbell Standing Leg Calf Raise   \n",
       "1         Cable Triceps Extension (with rope)   \n",
       "2                Safety Bar Seated Calf Raise   \n",
       "3  Sled 45° Reverse Calf Raise (plate loaded)   \n",
       "4                 Sled 45° Reverse Calf Raise   \n",
       "\n",
       "                                         preparation  \\\n",
       "0  Stand facing safety barbell on rack upper ches...   \n",
       "1  From low pulley cable, grasp ends of rope atta...   \n",
       "2  Place safety bar on rack approximately lower l...   \n",
       "3  Sit on machine with lower back against padding...   \n",
       "4  Sit on machine with lower back against padding...   \n",
       "\n",
       "                                            comments  \\\n",
       "0  Position rack just below lowest range of motio...   \n",
       "1  Let cable attachment pull arm back to maintain...   \n",
       "2  Slide forward to edge of bench and rack safety...   \n",
       "3  Keep knees straight throughout exercise. Also ...   \n",
       "4  Keep knees straight throughout exercise. Also ...   \n",
       "\n",
       "                                           execution  \n",
       "0  Raise heels by extending ankles as high as pos...  \n",
       "1  Raise ends of rope overhead by extending forea...  \n",
       "2  Lower heels by bending ankles until calves are...  \n",
       "3  Pull forefoot of both feet up and back toward ...  \n",
       "4  Pull forefoot of both feet up and back toward ...  "
      ]
     },
     "execution_count": 65,
     "metadata": {},
     "output_type": "execute_result"
    }
   ],
   "source": [
    "exrx_train.head()"
   ]
  },
  {
   "cell_type": "code",
   "execution_count": 69,
   "metadata": {
    "collapsed": true
   },
   "outputs": [],
   "source": [
    "corpus = exrx_train['exercisename'].values.tolist() + exrx_train['preparation'].values.tolist() + exrx_train['comments'].values.tolist()+exrx_train['execution'].values.tolist()  "
   ]
  },
  {
   "cell_type": "code",
   "execution_count": 70,
   "metadata": {
    "collapsed": false
   },
   "outputs": [
    {
     "data": {
      "text/plain": [
       "2548"
      ]
     },
     "execution_count": 70,
     "metadata": {},
     "output_type": "execute_result"
    }
   ],
   "source": [
    "len(corpus)"
   ]
  },
  {
   "cell_type": "code",
   "execution_count": 71,
   "metadata": {
    "collapsed": false
   },
   "outputs": [
    {
     "data": {
      "text/plain": [
       "[u'Safety Barbell Standing Leg Calf Raise',\n",
       " u'Cable Triceps Extension (with rope)',\n",
       " u'Safety Bar Seated Calf Raise',\n",
       " u'Sled 45\\xb0 Reverse Calf Raise (plate loaded)',\n",
       " u'Sled 45\\xb0 Reverse Calf Raise',\n",
       " u'Sled 45\\xb0 Reverse Calf Press',\n",
       " u'Lever Seated Reverse Calf Press',\n",
       " u'Lever Reverse Calf Raise',\n",
       " u'Lever Donkey Reverse Calf Raise',\n",
       " u'Sled Standing Reverse Calf Raise',\n",
       " u'Dumbbell Seated Front Lateral Raise',\n",
       " u'Dumbbell Kickback',\n",
       " u'Dumbbell Front Lateral Raise',\n",
       " u'Sled Hack Calf Press',\n",
       " u'Sled Donkey Calf Raise',\n",
       " u'Dumbbell Full Can Lateral Raise',\n",
       " u'Weighted Glute-Ham Raise',\n",
       " u'Suspended Hyperextension',\n",
       " u'Cable Hip Adduction',\n",
       " u'Dumbbell Shoulder Internal Rotation (on bench)',\n",
       " u'Cable Standing Shoulder Internal Rotation',\n",
       " u'Lever Upright Shoulder Internal Rotation',\n",
       " u'Cable Seated Hip External Rotation',\n",
       " u'Cable Lying Hip External Rotation',\n",
       " u'Suspended Shoulder External Rotation',\n",
       " u'Suspended Pike',\n",
       " u'Pike on Discs',\n",
       " u'Pike on Power Wheel',\n",
       " u'Lying Scissor Kick',\n",
       " u'Roman Chair Sit-up',\n",
       " u'Vertical Straight Leg Raise',\n",
       " u'Lying Simultaneous Alternating Straight Leg Raise',\n",
       " u'Lying Straight Leg Raise',\n",
       " u'Incline Straight Leg Raise (arms on pads)',\n",
       " u'Incline Straight Leg Raise',\n",
       " u'Lever Shoulder Internal Rotation',\n",
       " u'Weighted Incline Straight Leg Raise (arms on pads)',\n",
       " u'Lever Shoulder Internal Rotation (plate loaded)',\n",
       " u'Dumbbell Shoulder Internal Rotation (on floor)',\n",
       " u'Weighted Incline Straight Leg Raise',\n",
       " u'Weighted Hanging Straight Leg Raise',\n",
       " u'Weighted Decline Sit-up',\n",
       " u'Lever Vertical Leg Raise',\n",
       " u'Hanging Straight Leg Raise',\n",
       " u'Weighted Vertical Straight Leg Raise',\n",
       " u'Lever Shoulder External Rotation',\n",
       " u'Lever Upright Shoulder External Rotation',\n",
       " u'Lever Shoulder External Rotation (plate loaded)',\n",
       " u'Weighted Roman Chair Sit-up',\n",
       " u'Dumbbell Upright Shoulder External Rotation (with support)']"
      ]
     },
     "execution_count": 71,
     "metadata": {},
     "output_type": "execute_result"
    }
   ],
   "source": [
    "corpus[:50]"
   ]
  },
  {
   "cell_type": "code",
   "execution_count": null,
   "metadata": {
    "collapsed": true
   },
   "outputs": [],
   "source": []
  }
 ],
 "metadata": {
  "kernelspec": {
   "display_name": "Python 2",
   "language": "python",
   "name": "python2"
  },
  "language_info": {
   "codemirror_mode": {
    "name": "ipython",
    "version": 2
   },
   "file_extension": ".py",
   "mimetype": "text/x-python",
   "name": "python",
   "nbconvert_exporter": "python",
   "pygments_lexer": "ipython2",
   "version": "2.7.13"
  }
 },
 "nbformat": 4,
 "nbformat_minor": 2
}
