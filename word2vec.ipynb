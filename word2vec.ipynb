{
 "cells": [
  {
   "cell_type": "code",
   "execution_count": 1,
   "metadata": {
    "collapsed": false
   },
   "outputs": [],
   "source": [
    "import numpy as np\n",
    "import pandas as pd\n",
    "import matplotlib.pyplot as plt\n",
    "%matplotlib inline  \n",
    "from gensim.models import Word2Vec, keyedvectors\n",
    "from sklearn.model_selection import train_test_split\n",
    "from __future__ import division\n",
    "from nltk import sent_tokenize, word_tokenize\n",
    "from wikipedia import page"
   ]
  },
  {
   "cell_type": "code",
   "execution_count": 30,
   "metadata": {
    "collapsed": false
   },
   "outputs": [],
   "source": [
    "data = pd.read_csv(\"user_question.csv\", header=None)\n",
    "data.columns = ['question','group']"
   ]
  },
  {
   "cell_type": "code",
   "execution_count": 31,
   "metadata": {
    "collapsed": false
   },
   "outputs": [],
   "source": [
    "train = data['question'].values.tolist()\n",
    "label = data['group'].values.tolist()"
   ]
  },
  {
   "cell_type": "code",
   "execution_count": 32,
   "metadata": {
    "collapsed": false
   },
   "outputs": [],
   "source": [
    "corpus = train + label"
   ]
  },
  {
   "cell_type": "code",
   "execution_count": 35,
   "metadata": {
    "collapsed": false
   },
   "outputs": [
    {
     "name": "stdout",
     "output_type": "stream",
     "text": [
      "showing info https://raw.githubusercontent.com/nltk/nltk_data/gh-pages/index.xml\n"
     ]
    },
    {
     "data": {
      "text/plain": [
       "True"
      ]
     },
     "execution_count": 35,
     "metadata": {},
     "output_type": "execute_result"
    }
   ],
   "source": [
    "nltk.download()"
   ]
  },
  {
   "cell_type": "code",
   "execution_count": 36,
   "metadata": {
    "collapsed": false
   },
   "outputs": [],
   "source": [
    "tok_corp = [nltk.word_tokenize(sent.decode('utf-8')) for sent in corpus]"
   ]
  },
  {
   "cell_type": "code",
   "execution_count": 37,
   "metadata": {
    "collapsed": false
   },
   "outputs": [],
   "source": [
    "model = Word2Vec(tok_corp, size=50, window=5, min_count=3, workers=2)"
   ]
  },
  {
   "cell_type": "code",
   "execution_count": 45,
   "metadata": {
    "collapsed": false
   },
   "outputs": [
    {
     "data": {
      "text/plain": [
       "[(u'curl', 0.2829551100730896),\n",
       " (u'want', 0.14266327023506165),\n",
       " (u'What', 0.13052792847156525),\n",
       " (u'to', 0.11642688512802124),\n",
       " (u'Shoulders', 0.08410151302814484),\n",
       " (u'abs', 0.05228054150938988),\n",
       " (u'Triceps', 0.01863226667046547),\n",
       " (u'I', 0.006797999143600464),\n",
       " (u'do', -0.019749730825424194),\n",
       " (u'Leg', -0.023615125566720963)]"
      ]
     },
     "execution_count": 45,
     "metadata": {},
     "output_type": "execute_result"
    }
   ],
   "source": [
    "model.most_similar('How')"
   ]
  },
  {
   "cell_type": "code",
   "execution_count": 51,
   "metadata": {
    "collapsed": false
   },
   "outputs": [],
   "source": [
    "wikipage = page(\"Physical fitness\")"
   ]
  },
  {
   "cell_type": "code",
   "execution_count": 53,
   "metadata": {
    "collapsed": true
   },
   "outputs": [],
   "source": [
    "sentences = [word_tokenize(sent) for sent in sent_tokenize(wikipage.content)]"
   ]
  },
  {
   "cell_type": "code",
   "execution_count": 56,
   "metadata": {
    "collapsed": false
   },
   "outputs": [
    {
     "data": {
      "text/plain": [
       "137"
      ]
     },
     "execution_count": 56,
     "metadata": {},
     "output_type": "execute_result"
    }
   ],
   "source": [
    "len(sentences)"
   ]
  },
  {
   "cell_type": "code",
   "execution_count": 57,
   "metadata": {
    "collapsed": true
   },
   "outputs": [],
   "source": [
    "wiki_model = Word2Vec(sentences, min_count=2, size=50, window=5)  "
   ]
  },
  {
   "cell_type": "code",
   "execution_count": 58,
   "metadata": {
    "collapsed": false
   },
   "outputs": [
    {
     "data": {
      "text/plain": [
       "[u'all',\n",
       " u'resistance',\n",
       " u'consists',\n",
       " u'to',\n",
       " u'must',\n",
       " u'program',\n",
       " u'helps',\n",
       " u'include',\n",
       " u'activities',\n",
       " u'Training']"
      ]
     },
     "execution_count": 58,
     "metadata": {},
     "output_type": "execute_result"
    }
   ],
   "source": [
    "list(wiki_model.wv.vocab.keys())[:10]"
   ]
  },
  {
   "cell_type": "code",
   "execution_count": 62,
   "metadata": {
    "collapsed": false
   },
   "outputs": [
    {
     "data": {
      "text/plain": [
       "[(u'in', 0.6016296148300171),\n",
       " (u'.', 0.5888518691062927),\n",
       " (u'such', 0.5855332016944885),\n",
       " (u'Cancer', 0.5716492533683777),\n",
       " (u'physical', 0.5606939792633057),\n",
       " (u'body', 0.5583063364028931),\n",
       " (u'work', 0.5521804094314575),\n",
       " (u'have', 0.5517875552177429),\n",
       " (u'risk', 0.5498833656311035),\n",
       " (u'recommendations', 0.534516453742981)]"
      ]
     },
     "execution_count": 62,
     "metadata": {},
     "output_type": "execute_result"
    }
   ],
   "source": [
    "wiki_model.most_similar('resistance')"
   ]
  },
  {
   "cell_type": "code",
   "execution_count": 2,
   "metadata": {
    "collapsed": false
   },
   "outputs": [],
   "source": [
    "exrx_data = pd.read_json('fit_modified_all.json', orient = 'records', dtype={\"A\":str, \"B\":list})\n",
    "exrx_train = exrx_data[['exercisename','preparation','comments','execution','functional_muscle_group']]"
   ]
  },
  {
   "cell_type": "code",
   "execution_count": 175,
   "metadata": {
    "collapsed": false
   },
   "outputs": [
    {
     "data": {
      "text/html": [
       "<div>\n",
       "<table border=\"1\" class=\"dataframe\">\n",
       "  <thead>\n",
       "    <tr style=\"text-align: right;\">\n",
       "      <th></th>\n",
       "      <th>exercisename</th>\n",
       "      <th>preparation</th>\n",
       "      <th>comments</th>\n",
       "      <th>execution</th>\n",
       "      <th>functional_muscle_group</th>\n",
       "    </tr>\n",
       "  </thead>\n",
       "  <tbody>\n",
       "    <tr>\n",
       "      <th>0</th>\n",
       "      <td>Safety Barbell Standing Leg Calf Raise</td>\n",
       "      <td>Stand facing safety barbell on rack upper ches...</td>\n",
       "      <td>Position rack just below lowest range of motio...</td>\n",
       "      <td>Raise heels by extending ankles as high as pos...</td>\n",
       "      <td>leg</td>\n",
       "    </tr>\n",
       "    <tr>\n",
       "      <th>1</th>\n",
       "      <td>Cable Triceps Extension (with rope)</td>\n",
       "      <td>From low pulley cable, grasp ends of rope atta...</td>\n",
       "      <td>Let cable attachment pull arm back to maintain...</td>\n",
       "      <td>Raise ends of rope overhead by extending forea...</td>\n",
       "      <td>triceps</td>\n",
       "    </tr>\n",
       "    <tr>\n",
       "      <th>2</th>\n",
       "      <td>Safety Bar Seated Calf Raise</td>\n",
       "      <td>Place safety bar on rack approximately lower l...</td>\n",
       "      <td>Slide forward to edge of bench and rack safety...</td>\n",
       "      <td>Lower heels by bending ankles until calves are...</td>\n",
       "      <td>leg</td>\n",
       "    </tr>\n",
       "    <tr>\n",
       "      <th>3</th>\n",
       "      <td>Sled 45° Reverse Calf Raise (plate loaded)</td>\n",
       "      <td>Sit on machine with lower back against padding...</td>\n",
       "      <td>Keep knees straight throughout exercise. Also ...</td>\n",
       "      <td>Pull forefoot of both feet up and back toward ...</td>\n",
       "      <td>leg</td>\n",
       "    </tr>\n",
       "    <tr>\n",
       "      <th>4</th>\n",
       "      <td>Sled 45° Reverse Calf Raise</td>\n",
       "      <td>Sit on machine with lower back against padding...</td>\n",
       "      <td>Keep knees straight throughout exercise. Also ...</td>\n",
       "      <td>Pull forefoot of both feet up and back toward ...</td>\n",
       "      <td>leg</td>\n",
       "    </tr>\n",
       "  </tbody>\n",
       "</table>\n",
       "</div>"
      ],
      "text/plain": [
       "                                 exercisename  \\\n",
       "0      Safety Barbell Standing Leg Calf Raise   \n",
       "1         Cable Triceps Extension (with rope)   \n",
       "2                Safety Bar Seated Calf Raise   \n",
       "3  Sled 45° Reverse Calf Raise (plate loaded)   \n",
       "4                 Sled 45° Reverse Calf Raise   \n",
       "\n",
       "                                         preparation  \\\n",
       "0  Stand facing safety barbell on rack upper ches...   \n",
       "1  From low pulley cable, grasp ends of rope atta...   \n",
       "2  Place safety bar on rack approximately lower l...   \n",
       "3  Sit on machine with lower back against padding...   \n",
       "4  Sit on machine with lower back against padding...   \n",
       "\n",
       "                                            comments  \\\n",
       "0  Position rack just below lowest range of motio...   \n",
       "1  Let cable attachment pull arm back to maintain...   \n",
       "2  Slide forward to edge of bench and rack safety...   \n",
       "3  Keep knees straight throughout exercise. Also ...   \n",
       "4  Keep knees straight throughout exercise. Also ...   \n",
       "\n",
       "                                           execution functional_muscle_group  \n",
       "0  Raise heels by extending ankles as high as pos...                     leg  \n",
       "1  Raise ends of rope overhead by extending forea...                 triceps  \n",
       "2  Lower heels by bending ankles until calves are...                     leg  \n",
       "3  Pull forefoot of both feet up and back toward ...                     leg  \n",
       "4  Pull forefoot of both feet up and back toward ...                     leg  "
      ]
     },
     "execution_count": 175,
     "metadata": {},
     "output_type": "execute_result"
    }
   ],
   "source": [
    "exrx_train.head()"
   ]
  },
  {
   "cell_type": "code",
   "execution_count": 3,
   "metadata": {
    "collapsed": false
   },
   "outputs": [
    {
     "name": "stderr",
     "output_type": "stream",
     "text": [
      "/anaconda/lib/python2.7/site-packages/ipykernel/__main__.py:2: SettingWithCopyWarning: \n",
      "A value is trying to be set on a copy of a slice from a DataFrame.\n",
      "Try using .loc[row_indexer,col_indexer] = value instead\n",
      "\n",
      "See the caveats in the documentation: http://pandas.pydata.org/pandas-docs/stable/indexing.html#indexing-view-versus-copy\n",
      "  from ipykernel import kernelapp as app\n"
     ]
    }
   ],
   "source": [
    "#remove list\n",
    "exrx_train['functional_muscle_group'] = exrx_train['functional_muscle_group'].apply(lambda x: \" \".join(x))"
   ]
  },
  {
   "cell_type": "code",
   "execution_count": 4,
   "metadata": {
    "collapsed": false
   },
   "outputs": [
    {
     "name": "stderr",
     "output_type": "stream",
     "text": [
      "/anaconda/lib/python2.7/site-packages/ipykernel/__main__.py:2: SettingWithCopyWarning: \n",
      "A value is trying to be set on a copy of a slice from a DataFrame.\n",
      "Try using .loc[row_indexer,col_indexer] = value instead\n",
      "\n",
      "See the caveats in the documentation: http://pandas.pydata.org/pandas-docs/stable/indexing.html#indexing-view-versus-copy\n",
      "  from ipykernel import kernelapp as app\n"
     ]
    }
   ],
   "source": [
    "# Add functional muscle group to exercise name for better word2vec accuracy, otherwise muscle name never exists in corpus\n",
    "exrx_train['exercise'] = exrx_train[['exercisename', 'functional_muscle_group']].apply(lambda x: ' '.join(x), axis=1)"
   ]
  },
  {
   "cell_type": "code",
   "execution_count": 5,
   "metadata": {
    "collapsed": false
   },
   "outputs": [],
   "source": [
    "corpus = exrx_train['exercise'].values.tolist() + exrx_train['preparation'].values.tolist() + \\\n",
    "exrx_train['comments'].values.tolist()+exrx_train['execution'].values.tolist()  "
   ]
  },
  {
   "cell_type": "code",
   "execution_count": 6,
   "metadata": {
    "collapsed": false
   },
   "outputs": [
    {
     "data": {
      "text/plain": [
       "2548"
      ]
     },
     "execution_count": 6,
     "metadata": {},
     "output_type": "execute_result"
    }
   ],
   "source": [
    "len(corpus)"
   ]
  },
  {
   "cell_type": "code",
   "execution_count": 201,
   "metadata": {
    "collapsed": false
   },
   "outputs": [
    {
     "data": {
      "text/plain": [
       "[u'Safety Barbell Standing Leg Calf Raise leg',\n",
       " u'Cable Triceps Extension (with rope) triceps',\n",
       " u'Safety Bar Seated Calf Raise leg',\n",
       " u'Sled 45\\xb0 Reverse Calf Raise (plate loaded) leg',\n",
       " u'Sled 45\\xb0 Reverse Calf Raise leg',\n",
       " u'Sled 45\\xb0 Reverse Calf Press leg',\n",
       " u'Lever Seated Reverse Calf Press leg',\n",
       " u'Lever Reverse Calf Raise leg',\n",
       " u'Lever Donkey Reverse Calf Raise leg',\n",
       " u'Sled Standing Reverse Calf Raise leg']"
      ]
     },
     "execution_count": 201,
     "metadata": {},
     "output_type": "execute_result"
    }
   ],
   "source": [
    "corpus[:10]"
   ]
  },
  {
   "cell_type": "code",
   "execution_count": 7,
   "metadata": {
    "collapsed": false
   },
   "outputs": [],
   "source": [
    "sentences = [word_tokenize(sent) for sent in corpus]"
   ]
  },
  {
   "cell_type": "code",
   "execution_count": 8,
   "metadata": {
    "collapsed": false
   },
   "outputs": [],
   "source": [
    "exrx_model = Word2Vec(sentences, min_count=1, size=20, window=5)  "
   ]
  },
  {
   "cell_type": "code",
   "execution_count": 9,
   "metadata": {
    "collapsed": false
   },
   "outputs": [],
   "source": [
    "def classify_muscle_group(sentence):\n",
    "    w = filter(lambda x: x in exrx_model.wv, sentence.split())\n",
    "    if not w:\n",
    "        return \"None\"\n",
    "    muscles = ['shoulders','biceps','back','triceps','leg','glutes','chest','abs']\n",
    "    candidate = []\n",
    "    candidate.append(exrx_model.wv.n_similarity(w,['shoulders']))\n",
    "    candidate.append(exrx_model.wv.n_similarity(w,['biceps']))\n",
    "    candidate.append(exrx_model.wv.n_similarity(w,['back']))\n",
    "    candidate.append(exrx_model.wv.n_similarity(w,['triceps']))\n",
    "    candidate.append(exrx_model.wv.n_similarity(w,['leg']))\n",
    "    candidate.append(exrx_model.wv.n_similarity(w,['glutes']))\n",
    "    candidate.append(exrx_model.wv.n_similarity(w,['chest']))\n",
    "    candidate.append(exrx_model.wv.n_similarity(w,['abs']))\n",
    "    return muscles[np.argmax(candidate)]"
   ]
  },
  {
   "cell_type": "code",
   "execution_count": 10,
   "metadata": {
    "collapsed": false
   },
   "outputs": [
    {
     "data": {
      "text/plain": [
       "'back'"
      ]
     },
     "execution_count": 10,
     "metadata": {},
     "output_type": "execute_result"
    }
   ],
   "source": [
    "classify_muscle_group(\"how to do push press\")"
   ]
  },
  {
   "cell_type": "code",
   "execution_count": 11,
   "metadata": {
    "collapsed": false
   },
   "outputs": [
    {
     "data": {
      "text/plain": [
       "'back'"
      ]
     },
     "execution_count": 11,
     "metadata": {},
     "output_type": "execute_result"
    }
   ],
   "source": [
    "classify_muscle_group(\"how to do barbell bent over row\")"
   ]
  },
  {
   "cell_type": "code",
   "execution_count": 11,
   "metadata": {
    "collapsed": false
   },
   "outputs": [
    {
     "data": {
      "text/plain": [
       "'abs'"
      ]
     },
     "execution_count": 11,
     "metadata": {},
     "output_type": "execute_result"
    }
   ],
   "source": [
    "classify_muscle_group(\"Reverse crunch\")"
   ]
  },
  {
   "cell_type": "code",
   "execution_count": 25,
   "metadata": {
    "collapsed": false
   },
   "outputs": [],
   "source": [
    "test_data = pd.read_csv(\"test_data_2.csv\", header=None)\n",
    "test_data.columns = ['question','group']"
   ]
  },
  {
   "cell_type": "code",
   "execution_count": 26,
   "metadata": {
    "collapsed": false
   },
   "outputs": [
    {
     "data": {
      "text/plain": [
       "68"
      ]
     },
     "execution_count": 26,
     "metadata": {},
     "output_type": "execute_result"
    }
   ],
   "source": [
    "len(test_data)"
   ]
  },
  {
   "cell_type": "code",
   "execution_count": 27,
   "metadata": {
    "collapsed": false
   },
   "outputs": [],
   "source": [
    "prediction = map(classify_muscle_group, list(test_data[\"question\"]))\n",
    "pred = pd.Series(prediction)"
   ]
  },
  {
   "cell_type": "code",
   "execution_count": 28,
   "metadata": {
    "collapsed": false
   },
   "outputs": [
    {
     "data": {
      "text/plain": [
       "0.16176470588235295"
      ]
     },
     "execution_count": 28,
     "metadata": {},
     "output_type": "execute_result"
    }
   ],
   "source": [
    "#accuracy\n",
    "sum(pred==test_data[\"group\"])/len(pred)"
   ]
  },
  {
   "cell_type": "code",
   "execution_count": 30,
   "metadata": {
    "collapsed": false
   },
   "outputs": [
    {
     "name": "stdout",
     "output_type": "stream",
     "text": [
      "                                             question      group          0\n",
      "0                        I want to train my shoulders  shoulders       back\n",
      "1                                 Get wider shoulders  shoulders  shoulders\n",
      "2                                    How to do pullup  shoulders       back\n",
      "3                                How to do push press  shoulders       back\n",
      "4                              What is shoulder press  shoulders  shoulders\n",
      "5                              What is rhomboid major  shoulders  shoulders\n",
      "6                                    Where is deltoid  shoulders      chest\n",
      "7                         How do I train my trapezius  shoulders      chest\n",
      "8                     How do  I train my rotator cuff  shoulders      chest\n",
      "9                    Is rotator cuff a single muscle?  shoulders      chest\n",
      "10                            How to do russian twist        abs       back\n",
      "11                  What are different ways of crunch        abs       back\n",
      "12                               How can I get 6 pack        abs      chest\n",
      "13                                     Have toned abs        abs        abs\n",
      "14                              How to train obliques        abs       back\n",
      "15                             What is reverse crunch        abs      chest\n",
      "16                     How do I perform perfect plank        abs      chest\n",
      "17              What is the benefit of military plank        abs  shoulders\n",
      "18                  What is proper form of bicep curl     biceps  shoulders\n",
      "19                         How do I get bigger biceps     biceps     biceps\n",
      "20  What's different between hammer curl and bicep...     biceps       back\n",
      "21      How much weight should i use for barbell curl     biceps  shoulders\n",
      "22                                What is spider curl     biceps      chest\n",
      "23                                Where is brachialis     biceps  shoulders\n",
      "24                   how to train long head of biceps     biceps      chest\n",
      "25                     how to target bicep short head     biceps      chest\n",
      "26                             how to get biceps peak     biceps      chest\n",
      "27             What is better way to train my triceps    triceps  shoulders\n",
      "28                     How to perform tricep kickback    triceps       back\n",
      "29                               how to do bench dips    triceps       back\n",
      "30                             I want stronger tricep    triceps       None\n",
      "31                          How to stretch my triceps    triceps  shoulders\n",
      "32                        How to do triceps pushdown     triceps  shoulders\n",
      "33                                   where is tricep?    triceps  shoulders\n",
      "34                 dumbbell tricep overhead extension    triceps  shoulders\n",
      "35                   How to align my body in deadlift        leg       back\n",
      "36                               How to do back squat        leg       back\n",
      "37                  Workout options for stronger legs        leg  shoulders\n",
      "38                       How to get lean inner thighs        leg       back\n",
      "39                                     What is sprint        leg  shoulders\n",
      "40                        How to do romanian deadlift        leg       back\n",
      "41                      I want to train my hamstrings        leg       back\n",
      "42                      I want to scult my lower body        leg       back\n",
      "43                            How to do jumping lunge        leg       back\n",
      "44  What should I pay attention when I do walking ...        leg  shoulders\n",
      "45                               How to do hip thrust     glutes       back\n",
      "46                            How to do flutter kicks     glutes       back\n",
      "47                          I want to have nice booty     glutes       back\n",
      "48                         What is dirty dog exercise     glutes  shoulders\n",
      "49                                        Hip bridge      glutes     glutes\n",
      "50                     How do I perform kneeing squat     glutes      chest\n",
      "51                          How to get a bigger chest      chest  shoulders\n",
      "52                        how to get rid of man boobs      chest       back\n",
      "53                      How to do dive bomber pushups      chest       back\n",
      "54                                     how to do dips      chest       back\n",
      "55                Can I isoloate upper and lower pecs      chest       back\n",
      "56                              How to train my chest      chest       back\n",
      "57                 How to perform barbell bench press      chest       back\n",
      "58          Should i arch my back during bench press?      chest       back\n",
      "59                             How do I train my back       back       back\n",
      "60                            how to get v-taper back       back       back\n",
      "61                              how to get wider lats       back       back\n",
      "62                              how to do barbell row       back       back\n",
      "63                               what is inverted row       back      chest\n",
      "64                                  where is rhomboid       back  shoulders\n",
      "65                               dumbbell one-arm row       back  shoulders\n",
      "66                                I want a thick back       back       back\n",
      "67                            How do  I train my lats       back      chest\n"
     ]
    }
   ],
   "source": [
    "compare = pd.concat([test_data,pred],axis=1)\n",
    "pd.set_option('display.max_rows', None)\n",
    "print compare"
   ]
  },
  {
   "cell_type": "code",
   "execution_count": null,
   "metadata": {
    "collapsed": true
   },
   "outputs": [],
   "source": []
  }
 ],
 "metadata": {
  "kernelspec": {
   "display_name": "Python 2",
   "language": "python",
   "name": "python2"
  },
  "language_info": {
   "codemirror_mode": {
    "name": "ipython",
    "version": 2
   },
   "file_extension": ".py",
   "mimetype": "text/x-python",
   "name": "python",
   "nbconvert_exporter": "python",
   "pygments_lexer": "ipython2",
   "version": "2.7.13"
  }
 },
 "nbformat": 4,
 "nbformat_minor": 2
}
