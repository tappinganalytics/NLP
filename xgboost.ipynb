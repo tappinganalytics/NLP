{
 "cells": [
  {
   "cell_type": "code",
   "execution_count": 18,
   "metadata": {
    "collapsed": false
   },
   "outputs": [],
   "source": [
    "import numpy as np\n",
    "import pandas as pd\n",
    "import xgboost as xgb\n",
    "import matplotlib.pyplot as plt\n",
    "%matplotlib inline  "
   ]
  },
  {
   "cell_type": "code",
   "execution_count": 14,
   "metadata": {
    "collapsed": false
   },
   "outputs": [],
   "source": [
    "train = pd.read_table(\"train_data\", header=None)\n",
    "label = pd.read_table(\"label\", header=None)"
   ]
  },
  {
   "cell_type": "code",
   "execution_count": 25,
   "metadata": {
    "collapsed": false
   },
   "outputs": [],
   "source": [
    "train.columns = ['question']\n",
    "label.columns = ['group']"
   ]
  },
  {
   "cell_type": "code",
   "execution_count": 27,
   "metadata": {
    "collapsed": false
   },
   "outputs": [
    {
     "data": {
      "text/plain": [
       "Back         16995\n",
       "Leg          10390\n",
       "Shoulders     8809\n",
       "Chest         8685\n",
       "Triceps       6864\n",
       "Biceps        6798\n",
       "Abs           6046\n",
       "Glutes        2625\n",
       "Name: group, dtype: int64"
      ]
     },
     "execution_count": 27,
     "metadata": {},
     "output_type": "execute_result"
    }
   ],
   "source": [
    "label['group'].value_counts()"
   ]
  },
  {
   "cell_type": "code",
   "execution_count": 38,
   "metadata": {
    "collapsed": false
   },
   "outputs": [
    {
     "data": {
      "text/plain": [
       "43     2398\n",
       "46     2394\n",
       "48     2340\n",
       "42     2288\n",
       "44     2277\n",
       "45     2253\n",
       "47     2245\n",
       "49     2086\n",
       "41     1870\n",
       "51     1754\n",
       "37     1670\n",
       "50     1628\n",
       "53     1592\n",
       "40     1580\n",
       "39     1531\n",
       "54     1529\n",
       "52     1491\n",
       "36     1300\n",
       "38     1264\n",
       "55     1180\n",
       "56     1156\n",
       "24     1120\n",
       "57     1116\n",
       "33     1086\n",
       "32     1069\n",
       "31     1062\n",
       "35     1055\n",
       "34      974\n",
       "27      961\n",
       "58      948\n",
       "       ... \n",
       "85       74\n",
       "93       62\n",
       "86       58\n",
       "90       57\n",
       "91       53\n",
       "94       50\n",
       "6        48\n",
       "87       43\n",
       "5        43\n",
       "7        42\n",
       "89       39\n",
       "3        32\n",
       "100      30\n",
       "95       27\n",
       "88       24\n",
       "99       23\n",
       "97       23\n",
       "98       23\n",
       "92       22\n",
       "101      15\n",
       "96       14\n",
       "103      12\n",
       "106      11\n",
       "107       8\n",
       "108       7\n",
       "128       7\n",
       "104       6\n",
       "110       6\n",
       "126       3\n",
       "109       3\n",
       "Name: question, dtype: int64"
      ]
     },
     "execution_count": 38,
     "metadata": {},
     "output_type": "execute_result"
    }
   ],
   "source": [
    "train['question'].str.len().value_counts()"
   ]
  },
  {
   "cell_type": "code",
   "execution_count": null,
   "metadata": {
    "collapsed": true
   },
   "outputs": [],
   "source": []
  }
 ],
 "metadata": {
  "kernelspec": {
   "display_name": "Python 2",
   "language": "python",
   "name": "python2"
  },
  "language_info": {
   "codemirror_mode": {
    "name": "ipython",
    "version": 2
   },
   "file_extension": ".py",
   "mimetype": "text/x-python",
   "name": "python",
   "nbconvert_exporter": "python",
   "pygments_lexer": "ipython2",
   "version": "2.7.13"
  }
 },
 "nbformat": 4,
 "nbformat_minor": 2
}
