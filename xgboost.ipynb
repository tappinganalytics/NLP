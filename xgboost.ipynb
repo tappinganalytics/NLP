{
 "cells": [
  {
   "cell_type": "code",
   "execution_count": 147,
   "metadata": {
    "collapsed": false
   },
   "outputs": [],
   "source": [
    "import numpy as np\n",
    "import pandas as pd\n",
    "import xgboost as xgb\n",
    "import matplotlib.pyplot as plt\n",
    "%matplotlib inline  \n",
    "from sklearn.feature_extraction.text import TfidfVectorizer\n",
    "from sklearn.cross_validation import train_test_split\n",
    "from sklearn.ensemble import RandomForestClassifier\n",
    "from sklearn import metrics\n",
    "from __future__ import division"
   ]
  },
  {
   "cell_type": "code",
   "execution_count": 78,
   "metadata": {
    "collapsed": false
   },
   "outputs": [],
   "source": [
    "train = pd.read_table(\"train_data\", header=None)\n",
    "label = pd.read_table(\"label\", header=None, dtype='category')"
   ]
  },
  {
   "cell_type": "code",
   "execution_count": 79,
   "metadata": {
    "collapsed": false
   },
   "outputs": [],
   "source": [
    "train.columns = ['question']\n",
    "label.columns = ['group']"
   ]
  },
  {
   "cell_type": "code",
   "execution_count": 80,
   "metadata": {
    "collapsed": false
   },
   "outputs": [
    {
     "name": "stdout",
     "output_type": "stream",
     "text": [
      "(67212, 1)\n",
      "(67212, 1)\n"
     ]
    }
   ],
   "source": [
    "print train.shape\n",
    "print label.shape"
   ]
  },
  {
   "cell_type": "code",
   "execution_count": 81,
   "metadata": {
    "collapsed": false
   },
   "outputs": [
    {
     "data": {
      "text/plain": [
       "Back         16995\n",
       "Leg          10390\n",
       "Shoulders     8809\n",
       "Chest         8685\n",
       "Triceps       6864\n",
       "Biceps        6798\n",
       "Abs           6046\n",
       "Glutes        2625\n",
       "Name: group, dtype: int64"
      ]
     },
     "execution_count": 81,
     "metadata": {},
     "output_type": "execute_result"
    }
   ],
   "source": [
    "label['group'].value_counts()"
   ]
  },
  {
   "cell_type": "code",
   "execution_count": 40,
   "metadata": {
    "collapsed": false
   },
   "outputs": [],
   "source": [
    "#initialize TFIDF vectorizer\n",
    "vectorizer = TfidfVectorizer(ngram_range=(1, 3))\n",
    "data = vectorizer.fit_transform(train['question'])\n"
   ]
  },
  {
   "cell_type": "code",
   "execution_count": 159,
   "metadata": {
    "collapsed": false
   },
   "outputs": [
    {
     "data": {
      "text/plain": [
       "array([u'16 dieting strategy', u'16 get', u'16 get inspired', u'16 heavy',\n",
       "       u'16 heavy metal', u'16 inspiring', u'16 inspiring packs',\n",
       "       u'16 laws', u'16 laws of', u'16 lbs', u'16 leg', u'16 leg training',\n",
       "       u'16 mid', u'16 mid section', u'16 most', u'16 most advanced',\n",
       "       u'16 of', u'16 of his', u'16 percent', u'16 pounds',\n",
       "       u'16 pounds of', u'16 rest', u'16 shoulder', u'16 shoulder crunch',\n",
       "       u'16 shoulders', u'16 shoulders triceps', u'16 shredded',\n",
       "       u'16 shredded selfies', u'16 tips', u'16 tips to', u'16 training',\n",
       "       u'16 training the', u'16 transformation',\n",
       "       u'16 transformation titans', u'16 upper', u'16 upper body',\n",
       "       u'16 ways', u'16 ways to', u'16 week', u'16 week metamorphosis',\n",
       "       u'16 week muscle', u'16 week transformation', u'16 weeks',\n",
       "       u'16 weeks of', u'16 weeks out', u'165', u'165 pounds',\n",
       "       u'165 pounds through', u'16th', u'16th birthday',\n",
       "       u'16th birthday gift', u'17', u'17 abdominal',\n",
       "       u'17 abdominal exercises', u'17 active', u'17 active rest',\n",
       "       u'17 arms', u'17 arms and', u'17 back', u'17 body', u'17 body fat',\n",
       "       u'17 chest', u'17 dieting', u'17 dieting strategy', u'17 dumbbell',\n",
       "       u'17 dumbbell swing', u'17 endurance', u'17 how', u'17 how long',\n",
       "       u'17 how to', u'17 kris', u'17 kris gethin', u'17 must',\n",
       "       u'17 must see', u'17 new', u'17 new pros', u'17 pounds',\n",
       "       u'17 pounds of', u'17 quads', u'17 rest', u'17 the', u'17 the saga',\n",
       "       u'17 tips', u'17 tips to', u'17 training', u'17 training the',\n",
       "       u'170', u'170 pound', u'170 pound weight', u'170 pounds',\n",
       "       u'170 pounds of', u'170 pounds packing', u'171', u'171 pounds',\n",
       "       u'17th', u'18', u'18 02', u'18 08', u'18 20', u'18 25'], \n",
       "      dtype='<U40')"
      ]
     },
     "execution_count": 159,
     "metadata": {},
     "output_type": "execute_result"
    }
   ],
   "source": [
    "feature_names[1000:1100]"
   ]
  },
  {
   "cell_type": "code",
   "execution_count": 150,
   "metadata": {
    "collapsed": false
   },
   "outputs": [
    {
     "name": "stdout",
     "output_type": "stream",
     "text": [
      "(53769, 111045)\n",
      "(13443, 111045)\n"
     ]
    }
   ],
   "source": [
    "# separate data into training and test\n",
    "X_train, X_test, y_train, y_test = train_test_split(data, label, test_size=0.2, random_state=0)\n",
    "print X_train.shape\n",
    "print X_test.shape"
   ]
  },
  {
   "cell_type": "code",
   "execution_count": 44,
   "metadata": {
    "collapsed": false
   },
   "outputs": [
    {
     "data": {
      "text/plain": [
       "(111045,)"
      ]
     },
     "execution_count": 44,
     "metadata": {},
     "output_type": "execute_result"
    }
   ],
   "source": [
    "feature_names = vectorizer.get_feature_names()\n",
    "feature_names = np.asarray(feature_names)\n",
    "feature_names.shape"
   ]
  },
  {
   "cell_type": "code",
   "execution_count": 46,
   "metadata": {
    "collapsed": false
   },
   "outputs": [
    {
     "name": "stderr",
     "output_type": "stream",
     "text": [
      "/anaconda/lib/python2.7/site-packages/ipykernel/__main__.py:3: DataConversionWarning: A column-vector y was passed when a 1d array was expected. Please change the shape of y to (n_samples,), for example using ravel().\n",
      "  app.launch_new_instance()\n"
     ]
    }
   ],
   "source": [
    "#benchmark model\n",
    "clf = RandomForestClassifier(max_depth=4)\n",
    "clf.fit(X_train, y_train)\n",
    "pred = clf.predict(X_test)"
   ]
  },
  {
   "cell_type": "code",
   "execution_count": 50,
   "metadata": {
    "collapsed": false
   },
   "outputs": [
    {
     "name": "stdout",
     "output_type": "stream",
     "text": [
      "0.248902774678\n"
     ]
    }
   ],
   "source": [
    "score = metrics.accuracy_score(y_test, pred)\n",
    "print score"
   ]
  },
  {
   "cell_type": "code",
   "execution_count": 117,
   "metadata": {
    "collapsed": false
   },
   "outputs": [],
   "source": [
    "y_label = pd.Series(y_train['group'],dtype='category')\n",
    "y_label.cat.categories \n",
    "y_label.cat.categories = [0,1,2,3,4,5,6,7]"
   ]
  },
  {
   "cell_type": "code",
   "execution_count": 118,
   "metadata": {
    "collapsed": false
   },
   "outputs": [
    {
     "name": "stdout",
     "output_type": "stream",
     "text": [
      "(43015, 111045)\n",
      "(43015,)\n",
      "(10754, 111045)\n",
      "(10754,)\n"
     ]
    }
   ],
   "source": [
    "X_train, X_valid, y_train, y_valid = train_test_split(X_train, y_label, test_size=0.2, random_state=0)\n",
    "print X_train.shape\n",
    "print y_train.shape\n",
    "print X_valid.shape\n",
    "print y_valid.shape"
   ]
  },
  {
   "cell_type": "code",
   "execution_count": 120,
   "metadata": {
    "collapsed": false
   },
   "outputs": [
    {
     "data": {
      "text/plain": [
       "[6, 5, 4, 0, 5, ..., 3, 6, 5, 6, 6]\n",
       "Length: 10754\n",
       "Categories (8, int64): [0, 1, 2, 3, 4, 5, 6, 7]"
      ]
     },
     "execution_count": 120,
     "metadata": {},
     "output_type": "execute_result"
    }
   ],
   "source": [
    "y_valid"
   ]
  },
  {
   "cell_type": "code",
   "execution_count": 148,
   "metadata": {
    "collapsed": false
   },
   "outputs": [
    {
     "name": "stdout",
     "output_type": "stream",
     "text": [
      "[0]\ttrain-merror:0.73665\tvalid-merror:0.758137\n",
      "Multiple eval metrics have been passed: 'valid-merror' will be used for early stopping.\n",
      "\n",
      "Will train until valid-merror hasn't improved in 50 rounds.\n",
      "[10]\ttrain-merror:0.735441\tvalid-merror:0.758044\n",
      "[20]\ttrain-merror:0.736022\tvalid-merror:0.756928\n",
      "[30]\ttrain-merror:0.736743\tvalid-merror:0.755812\n",
      "[40]\ttrain-merror:0.736627\tvalid-merror:0.755161\n",
      "[50]\ttrain-merror:0.736046\tvalid-merror:0.755998\n",
      "[60]\ttrain-merror:0.735418\tvalid-merror:0.756928\n",
      "[70]\ttrain-merror:0.734976\tvalid-merror:0.757114\n",
      "[80]\ttrain-merror:0.734488\tvalid-merror:0.757951\n",
      "Stopping. Best iteration:\n",
      "[38]\ttrain-merror:0.736952\tvalid-merror:0.754975\n",
      "\n"
     ]
    }
   ],
   "source": [
    "#xgboost\n",
    "\n",
    "params = {}\n",
    "params['objective'] = 'multi:softmax'\n",
    "params['eta'] = 0.1\n",
    "params['max_depth'] = 6\n",
    "params['num_class'] = 8\n",
    "\n",
    "d_train = xgb.DMatrix(X_train, label=y_train)\n",
    "d_valid = xgb.DMatrix(X_valid, label=y_valid)\n",
    "\n",
    "watchlist = [(d_train, 'train'), (d_valid, 'valid')]\n",
    "bst = xgb.train(params, d_train, 200, watchlist, early_stopping_rounds=50, verbose_eval=10)\n",
    "d_test = xgb.DMatrix(X_test)\n",
    "p_test = bst.predict(d_test)\n"
   ]
  },
  {
   "cell_type": "code",
   "execution_count": 151,
   "metadata": {
    "collapsed": false
   },
   "outputs": [
    {
     "name": "stdout",
     "output_type": "stream",
     "text": [
      "0.242877333928\n"
     ]
    }
   ],
   "source": [
    "y_test = pd.Series(y_test['group'],dtype='category')\n",
    "y_test.cat.categories = [0,1,2,3,4,5,6,7]\n",
    "\n",
    "accuracy = float(np.sum(p_test == y_test) / y_test.shape[0])\n",
    "print accuracy"
   ]
  },
  {
   "cell_type": "code",
   "execution_count": null,
   "metadata": {
    "collapsed": true
   },
   "outputs": [],
   "source": []
  }
 ],
 "metadata": {
  "kernelspec": {
   "display_name": "Python 2",
   "language": "python",
   "name": "python2"
  },
  "language_info": {
   "codemirror_mode": {
    "name": "ipython",
    "version": 2
   },
   "file_extension": ".py",
   "mimetype": "text/x-python",
   "name": "python",
   "nbconvert_exporter": "python",
   "pygments_lexer": "ipython2",
   "version": "2.7.13"
  }
 },
 "nbformat": 4,
 "nbformat_minor": 2
}
